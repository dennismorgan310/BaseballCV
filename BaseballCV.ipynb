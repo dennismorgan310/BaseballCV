{
  "cells": [
    {
      "cell_type": "code",
      "execution_count": null,
      "metadata": {
        "id": "Dewo8nPDMQZt"
      },
      "outputs": [],
      "source": [
        "!git clone https://github.com/BaseballCV/BaseballCV.git"
      ]
    },
    {
      "cell_type": "code",
      "execution_count": null,
      "metadata": {
        "id": "gojRym9jMkMF"
      },
      "outputs": [],
      "source": [
        "!pip install baseballcv"
      ]
    },
    {
      "cell_type": "code",
      "execution_count": null,
      "metadata": {
        "colab": {
          "base_uri": "https://localhost:8080/"
        },
        "id": "Lo4OBDyUOsZJ",
        "outputId": "982c8e4b-4e34-4aaf-aed6-8461af440436"
      },
      "outputs": [
        {
          "output_type": "stream",
          "name": "stdout",
          "text": [
            "--2025-08-22 15:19:58--  https://data.balldatalab.com/index.php/s/pLy7sZqqMdx3jj7/download/baseball_rubber_home_glove.zip\n",
            "Resolving data.balldatalab.com (data.balldatalab.com)... 69.48.207.209\n",
            "Connecting to data.balldatalab.com (data.balldatalab.com)|69.48.207.209|:443... connected.\n",
            "HTTP request sent, awaiting response... 200 OK\n",
            "Length: 1427814730 (1.3G) [application/zip]\n",
            "Saving to: ‘baseball_rubber_home_glove.zip’\n",
            "\n",
            "baseball_rubber_hom 100%[===================>]   1.33G  51.7MB/s    in 27s     \n",
            "\n",
            "2025-08-22 15:20:26 (50.7 MB/s) - ‘baseball_rubber_home_glove.zip’ saved [1427814730/1427814730]\n",
            "\n"
          ]
        }
      ],
      "source": [
        "!wget https://data.balldatalab.com/index.php/s/pLy7sZqqMdx3jj7/download/baseball_rubber_home_glove.zip"
      ]
    },
    {
      "cell_type": "code",
      "execution_count": null,
      "metadata": {
        "id": "giYR0bEdPhEu"
      },
      "outputs": [],
      "source": [
        "!unzip /content/baseball_rubber_home_glove.zip"
      ]
    },
    {
      "cell_type": "markdown",
      "metadata": {
        "id": "-6MZwIU1Pq2f"
      },
      "source": [
        "During my first attempt at training, I got messages that some images were being ignored because there labels had an extra label. So that data needs to be cleaned."
      ]
    },
    {
      "cell_type": "code",
      "execution_count": null,
      "metadata": {
        "colab": {
          "base_uri": "https://localhost:8080/"
        },
        "id": "Jvh2WvFYPzJC",
        "outputId": "06f2e651-6016-4472-e95a-a685ea4a7ac1"
      },
      "outputs": [
        {
          "output_type": "stream",
          "name": "stdout",
          "text": [
            "Total class 4 labels removed: 0\n"
          ]
        }
      ],
      "source": [
        "import os\n",
        "\n",
        "label_dirs = [\n",
        "    '/content/baseball_rubber_home_glove/train/labels',\n",
        "    '/content/baseball_rubber_home_glove/valid/labels',\n",
        "    '/content/baseball_rubber_home_glove/test/labels'\n",
        "]\n",
        "\n",
        "removed_count = 0\n",
        "for label_dir in label_dirs:\n",
        "    for fname in os.listdir(label_dir):\n",
        "        if fname.endswith('.txt'):\n",
        "            path = os.path.join(label_dir, fname)\n",
        "            with open(path, 'r') as f:\n",
        "                lines = f.readlines()\n",
        "            new_lines = [line for line in lines if not line.strip().startswith('4 ')]\n",
        "            removed = len(lines) - len(new_lines)\n",
        "            if removed > 0:\n",
        "                with open(path, 'w') as f:\n",
        "                    f.writelines(new_lines)\n",
        "                removed_count += removed\n",
        "                print(f\"Removed {removed} class 4 label(s) from: {path}\")\n",
        "print(f\"Total class 4 labels removed: {removed_count}\")"
      ]
    },
    {
      "cell_type": "markdown",
      "metadata": {
        "id": "aqo_XRZZQIHg"
      },
      "source": [
        "Now that the data has been cleaned. Let's do a first pass training.\n",
        "imgsz of 640 was used because a quick search showed it was a commonly used size that balanced both training speed and detection accuracy. https://github.com/ultralytics/yolov5/issues/5851\n",
        "\n",
        "20 epochs was chosen just as a quick first pass to ensure training was taking place."
      ]
    },
    {
      "cell_type": "code",
      "execution_count": null,
      "metadata": {
        "id": "H3eXy3jwUKcC"
      },
      "outputs": [],
      "source": [
        "# Clear memory before training\n",
        "import torch, gc\n",
        "gc.collect()\n",
        "torch.cuda.empty_cache()"
      ]
    },
    {
      "cell_type": "code",
      "execution_count": null,
      "metadata": {
        "id": "7-oOpP87QfA5"
      },
      "outputs": [],
      "source": [
        "from ultralytics import YOLO\n",
        "model = YOLO('glove_tracking_v4_YOLOv11.pt')\n",
        "\n",
        "\n",
        "# Load pretrained model\n",
        "model = YOLO('glove_tracking_v4_YOLOv11.pt')\n",
        "\n",
        "# Train (fine-tune) on dataset\n",
        "model.train(data='glove_data.yaml', epochs=20, imgsz=640, batch=8)"
      ]
    },
    {
      "cell_type": "markdown",
      "source": [
        "Try a learning rate of 0.005 for fine-tuning."
      ],
      "metadata": {
        "id": "7YciXOVz2dAw"
      }
    },
    {
      "cell_type": "code",
      "execution_count": null,
      "metadata": {
        "id": "FcW91Q_QSFuj"
      },
      "outputs": [],
      "source": [
        "from ultralytics import YOLO\n",
        "\n",
        "# Clear memory before training\n",
        "import torch, gc\n",
        "gc.collect()\n",
        "torch.cuda.empty_cache()\n",
        "\n",
        "# Load pretrained model\n",
        "model = YOLO('glove_tracking_v4_YOLOv11.pt')\n",
        "\n",
        "# Train (fine-tune) on dataset\n",
        "model.train(data='glove_data.yaml', epochs=20, imgsz=512, batch=8, lr0=0.005)\n",
        "\n",
        "from google.colab import files\n",
        "import shutil\n",
        "shutil.make_archive(\"/content/runs/detect/train20\", 'zip', \"/content/runs/detect/train20\")\n",
        "files.download(\"/content/runs/detect/train20.zip\")\n"
      ]
    },
    {
      "cell_type": "markdown",
      "source": [
        "Keep the learning rate and 0.005 and increase the warm-up epochs from 2 to 4."
      ],
      "metadata": {
        "id": "LmbZSd8w2sal"
      }
    },
    {
      "cell_type": "code",
      "source": [
        "from ultralytics import YOLO\n",
        "\n",
        "# Clear memory before training\n",
        "import torch, gc\n",
        "gc.collect()\n",
        "torch.cuda.empty_cache()\n",
        "\n",
        "\n",
        "\n",
        "# Load pretrained model\n",
        "model = YOLO('glove_tracking_v4_YOLOv11.pt')\n",
        "\n",
        "# Train (fine-tune) on dataset\n",
        "model.train(data='glove_data.yaml', epochs=20, imgsz=512, batch=8, lr0=0.005, warmup_epochs=5)\n",
        "\n",
        "from google.colab import files\n",
        "import shutil\n",
        "shutil.make_archive(\"/content/runs/detect/train21\", 'zip', \"/content/runs/detect/train21\")\n",
        "files.download(\"/content/runs/detect/train21.zip\")"
      ],
      "metadata": {
        "id": "Lze3NaOpydAp"
      },
      "execution_count": null,
      "outputs": []
    }
  ],
  "metadata": {
    "accelerator": "GPU",
    "colab": {
      "gpuType": "T4",
      "provenance": []
    },
    "kernelspec": {
      "display_name": "Python 3",
      "name": "python3"
    },
    "language_info": {
      "name": "python"
    }
  },
  "nbformat": 4,
  "nbformat_minor": 0
}